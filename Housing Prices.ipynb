{
 "cells": [
  {
   "cell_type": "code",
   "execution_count": 1,
   "id": "2361b8aa",
   "metadata": {},
   "outputs": [],
   "source": [
    "import pandas as pd\n",
    "import numpy as np\n",
    "import warnings\n",
    "warnings.filterwarnings(\"ignore\")\n",
    "\n",
    "# libraries for training data\n",
    "from sklearn.model_selection import train_test_split\n",
    "from sklearn.linear_model import LinearRegression\n",
    "from sklearn.metrics import mean_squared_error\n",
    "from sklearn.model_selection import KFold\n",
    "from sklearn.model_selection import cross_val_score"
   ]
  },
  {
   "cell_type": "code",
   "execution_count": 2,
   "id": "0e1a7890",
   "metadata": {},
   "outputs": [],
   "source": [
    "training_data = pd.read_csv(\"/Users/saishdesai/Documents/Kaggle-Comeptitions/house-prices-advanced-regression-techniques/train.csv\")\n",
    "Y = training_data['SalePrice']\n",
    "X = training_data.drop(columns = ['SalePrice'])\n",
    "test_data = pd.read_csv(\"/Users/saishdesai/Documents/Kaggle-Comeptitions/house-prices-advanced-regression-techniques/test.csv\")\n",
    "X = pd.concat([X,test_data],ignore_index=True,axis=0)\n"
   ]
  },
  {
   "cell_type": "code",
   "execution_count": 3,
   "id": "17e3e5dd",
   "metadata": {},
   "outputs": [
    {
     "name": "stdout",
     "output_type": "stream",
     "text": [
      "Index(['Id', 'MSSubClass', 'LotFrontage', 'LotArea', 'OverallQual',\n",
      "       'OverallCond', 'YearBuilt', 'YearRemodAdd', 'MasVnrArea', 'BsmtFinSF1',\n",
      "       'BsmtFinSF2', 'BsmtUnfSF', 'TotalBsmtSF', '1stFlrSF', '2ndFlrSF',\n",
      "       'LowQualFinSF', 'GrLivArea', 'BsmtFullBath', 'BsmtHalfBath', 'FullBath',\n",
      "       'HalfBath', 'BedroomAbvGr', 'KitchenAbvGr', 'TotRmsAbvGrd',\n",
      "       'Fireplaces', 'GarageYrBlt', 'GarageCars', 'GarageArea', 'WoodDeckSF',\n",
      "       'OpenPorchSF', 'EnclosedPorch', '3SsnPorch', 'ScreenPorch', 'PoolArea',\n",
      "       'MiscVal', 'MoSold', 'YrSold'],\n",
      "      dtype='object')\n",
      "37\n",
      "Index(['MSZoning', 'Street', 'Alley', 'LotShape', 'LandContour', 'Utilities',\n",
      "       'LotConfig', 'LandSlope', 'Neighborhood', 'Condition1', 'Condition2',\n",
      "       'BldgType', 'HouseStyle', 'RoofStyle', 'RoofMatl', 'Exterior1st',\n",
      "       'Exterior2nd', 'MasVnrType', 'ExterQual', 'ExterCond', 'Foundation',\n",
      "       'BsmtQual', 'BsmtCond', 'BsmtExposure', 'BsmtFinType1', 'BsmtFinType2',\n",
      "       'Heating', 'HeatingQC', 'CentralAir', 'Electrical', 'KitchenQual',\n",
      "       'Functional', 'FireplaceQu', 'GarageType', 'GarageFinish', 'GarageQual',\n",
      "       'GarageCond', 'PavedDrive', 'PoolQC', 'Fence', 'MiscFeature',\n",
      "       'SaleType', 'SaleCondition'],\n",
      "      dtype='object')\n",
      "43\n"
     ]
    }
   ],
   "source": [
    "# Dataframe with all numerical data types\n",
    "data_num = X.select_dtypes(np.number)\n",
    "print(data_num.columns)\n",
    "print(len(data_num.columns))\n",
    "\n",
    "# Dataframe with all object data types\n",
    "data_obj = X.select_dtypes('object')\n",
    "print(data_obj.columns)\n",
    "print(len(data_obj.columns))"
   ]
  },
  {
   "cell_type": "code",
   "execution_count": 4,
   "id": "8a0ba960",
   "metadata": {},
   "outputs": [],
   "source": [
    "# Converting object variables to object variables\n",
    "bsmt_dict = {'Ex':5,'Gd':4,'TA':3,'Fa':2,'Po':1,np.nan:0}\n",
    "ext_dict = {'Ex':5,'Gd':4,'TA':3,'Fa':2,'Po':1}\n",
    "d1,d2,d3,d4,d5,d6,d7,d8,d9,d10 = [],[],[],[],[],[],[],[],[],[]\n",
    "\n",
    "for i in range(len(data_obj['ExterQual'])):\n",
    "    d1.append(ext_dict[data_obj['ExterQual'][i]])\n",
    "    \n",
    "for i in range(len(data_obj['ExterCond'])):\n",
    "    d2.append(ext_dict[data_obj['ExterCond'][i]])\n",
    "    \n",
    "for i in range(len(data_obj['HeatingQC'])):\n",
    "    d3.append(ext_dict[data_obj['HeatingQC'][i]])\n",
    "\n",
    "for i in range(len(data_obj['KitchenQual'])):\n",
    "    d4.append(bsmt_dict[data_obj['KitchenQual'][i]])\n",
    "    \n",
    "for i in range(len(data_obj['BsmtQual'])):\n",
    "    d5.append(bsmt_dict[data_obj['BsmtQual'][i]])\n",
    "\n",
    "for i in range(len(data_obj['BsmtCond'])):\n",
    "    d6.append(bsmt_dict[data_obj['BsmtCond'][i]])\n",
    "    \n",
    "for i in range(len(data_obj['FireplaceQu'])):\n",
    "    d7.append(bsmt_dict[data_obj['FireplaceQu'][i]])\n",
    "    \n",
    "for i in range(len(data_obj['GarageQual'])):\n",
    "    d8.append(bsmt_dict[data_obj['GarageQual'][i]])\n",
    "    \n",
    "for i in range(len(data_obj['GarageCond'])):\n",
    "    d9.append(bsmt_dict[data_obj['GarageCond'][i]])\n",
    "    \n",
    "for i in range(len(data_obj['PoolQC'])):\n",
    "    d10.append(bsmt_dict[data_obj['PoolQC'][i]])\n",
    "\n",
    "# Adding newly converted rows to numerical dataframe\n",
    "data_num['ExterQual'] = d1\n",
    "data_num['ExterCond'] = d2\n",
    "data_num['HeatingQC'] = d3\n",
    "data_num['KitchenQual'] = d4\n",
    "data_num['BsmtQual'] = d5\n",
    "data_num['BsmtCond'] = d6\n",
    "data_num['FireplaceQu'] = d7\n",
    "data_num['GarageQual'] = d8\n",
    "data_num['GarageCond'] = d9\n",
    "data_num['PoolQC'] = d10\n",
    "\n",
    "data_obj.drop(columns = ['ExterQual','ExterCond','HeatingQC','KitchenQual','BsmtQual','BsmtCond','FireplaceQu','GarageQual',\n",
    "                         'GarageCond','PoolQC'], inplace = True)\n",
    "\n",
    "\n"
   ]
  },
  {
   "cell_type": "code",
   "execution_count": 5,
   "id": "a9125538",
   "metadata": {},
   "outputs": [
    {
     "name": "stdout",
     "output_type": "stream",
     "text": [
      "Index(['Id', 'MSSubClass', 'LotFrontage', 'LotArea', 'OverallQual',\n",
      "       'OverallCond', 'YearBuilt', 'YearRemodAdd', 'MasVnrArea', 'BsmtFinSF1',\n",
      "       'BsmtFinSF2', 'BsmtUnfSF', 'TotalBsmtSF', '1stFlrSF', '2ndFlrSF',\n",
      "       'LowQualFinSF', 'GrLivArea', 'BsmtFullBath', 'BsmtHalfBath', 'FullBath',\n",
      "       'HalfBath', 'BedroomAbvGr', 'KitchenAbvGr', 'TotRmsAbvGrd',\n",
      "       'Fireplaces', 'GarageYrBlt', 'GarageCars', 'GarageArea', 'WoodDeckSF',\n",
      "       'OpenPorchSF', 'EnclosedPorch', '3SsnPorch', 'ScreenPorch', 'PoolArea',\n",
      "       'MiscVal', 'MoSold', 'YrSold', 'ExterQual', 'ExterCond', 'HeatingQC',\n",
      "       'KitchenQual', 'BsmtQual', 'BsmtCond', 'FireplaceQu', 'GarageQual',\n",
      "       'GarageCond', 'PoolQC'],\n",
      "      dtype='object')\n",
      "47\n",
      "Index(['MSZoning', 'Street', 'Alley', 'LotShape', 'LandContour', 'Utilities',\n",
      "       'LotConfig', 'LandSlope', 'Neighborhood', 'Condition1', 'Condition2',\n",
      "       'BldgType', 'HouseStyle', 'RoofStyle', 'RoofMatl', 'Exterior1st',\n",
      "       'Exterior2nd', 'MasVnrType', 'Foundation', 'BsmtExposure',\n",
      "       'BsmtFinType1', 'BsmtFinType2', 'Heating', 'CentralAir', 'Electrical',\n",
      "       'Functional', 'GarageType', 'GarageFinish', 'PavedDrive', 'Fence',\n",
      "       'MiscFeature', 'SaleType', 'SaleCondition'],\n",
      "      dtype='object')\n",
      "33\n"
     ]
    }
   ],
   "source": [
    "# Dataframe with all numerical data types\n",
    "print(data_num.columns)\n",
    "print(len(data_num.columns))\n",
    "# Dataframe with all object data types\n",
    "print(data_obj.columns)\n",
    "print(len(data_obj.columns))"
   ]
  },
  {
   "cell_type": "code",
   "execution_count": 6,
   "id": "c6bc064b",
   "metadata": {},
   "outputs": [],
   "source": [
    "# Dropping columns with missing values\n",
    "for col in data_num.columns:\n",
    "    if np.where(pd.isnull(data_num[col]))[0].size > 0:\n",
    "        data_num.drop(col,inplace = True, axis =1)"
   ]
  },
  {
   "cell_type": "code",
   "execution_count": 7,
   "id": "1658d9f0",
   "metadata": {},
   "outputs": [],
   "source": [
    "validation_data  = data_num[data_num['Id']>1460]\n",
    "validation_data.reset_index()\n",
    "model_data = data_num[data_num['Id']<1461]"
   ]
  },
  {
   "cell_type": "code",
   "execution_count": 8,
   "id": "d5615dde",
   "metadata": {},
   "outputs": [
    {
     "name": "stdout",
     "output_type": "stream",
     "text": [
      "[0.85430614 0.80698323 0.81827171 0.81918398 0.67953342]\n"
     ]
    }
   ],
   "source": [
    "lm = LinearRegression()\n",
    "scores = cross_val_score(lm,model_data, Y,scoring='r2', cv=5)\n",
    "print(scores)\n",
    "lm.fit(model_data,Y)\n",
    "yhat = lm.predict(validation_data)"
   ]
  },
  {
   "cell_type": "code",
   "execution_count": 28,
   "id": "f2b369c8",
   "metadata": {},
   "outputs": [],
   "source": [
    "yhat = pd.Series(yhat) \n",
    "index = list(validation_data[\"Id\"])\n",
    "data_tuples = list(zip(index,yhat))"
   ]
  },
  {
   "cell_type": "code",
   "execution_count": 33,
   "id": "bfe00cb4",
   "metadata": {},
   "outputs": [],
   "source": [
    "submission_dataset = pd.DataFrame(data_tuples, columns=['Id','SalePrice'])\n",
    "submission_dataset.set_index(['Id'], inplace =True)"
   ]
  },
  {
   "cell_type": "code",
   "execution_count": 34,
   "id": "c17e63df",
   "metadata": {},
   "outputs": [],
   "source": [
    "submission_dataset.to_csv(\"submission.csv\")"
   ]
  },
  {
   "cell_type": "code",
   "execution_count": null,
   "id": "bd99f4f3",
   "metadata": {},
   "outputs": [],
   "source": []
  }
 ],
 "metadata": {
  "kernelspec": {
   "display_name": "Python 3 (ipykernel)",
   "language": "python",
   "name": "python3"
  },
  "language_info": {
   "codemirror_mode": {
    "name": "ipython",
    "version": 3
   },
   "file_extension": ".py",
   "mimetype": "text/x-python",
   "name": "python",
   "nbconvert_exporter": "python",
   "pygments_lexer": "ipython3",
   "version": "3.8.12"
  }
 },
 "nbformat": 4,
 "nbformat_minor": 5
}
